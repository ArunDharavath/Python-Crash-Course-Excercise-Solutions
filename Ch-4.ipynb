{
 "metadata": {
  "language_info": {
   "codemirror_mode": {
    "name": "ipython",
    "version": 3
   },
   "file_extension": ".py",
   "mimetype": "text/x-python",
   "name": "python",
   "nbconvert_exporter": "python",
   "pygments_lexer": "ipython3",
   "version": "3.8.5"
  },
  "orig_nbformat": 4,
  "kernelspec": {
   "name": "python3",
   "display_name": "Python 3.8.5 64-bit"
  },
  "interpreter": {
   "hash": "916dbcbb3f70747c44a77c7bcd40155683ae19c65e1c03b4aa3499c5328201f1"
  }
 },
 "nbformat": 4,
 "nbformat_minor": 2,
 "cells": [
  {
   "source": [
    "4.1"
   ],
   "cell_type": "markdown",
   "metadata": {}
  },
  {
   "cell_type": "code",
   "execution_count": 31,
   "metadata": {},
   "outputs": [
    {
     "output_type": "stream",
     "name": "stdout",
     "text": [
      "Margherita Pizza\nPepperoni Pizza\nExtra cheese Pizza\nBBQ Chicken Pizza\nGreek Pizza\n"
     ]
    }
   ],
   "source": [
    "pizzas = [\"Margherita Pizza\", \"Pepperoni Pizza\", \"Extra cheese Pizza\", \"BBQ Chicken Pizza\", \"Greek Pizza\"]\n",
    "for i in pizzas:\n",
    "    print(i)"
   ]
  },
  {
   "cell_type": "code",
   "execution_count": 11,
   "metadata": {},
   "outputs": [
    {
     "output_type": "stream",
     "name": "stdout",
     "text": [
      "I love Margherita Pizza\nI love Pepperoni Pizza\nI love Extra cheese Pizza\nI love BBQ Chicken Pizza\nI love Greek Pizza\n"
     ]
    }
   ],
   "source": [
    "for i in pizzas:\n",
    "    print(\"I love \" + i)"
   ]
  },
  {
   "cell_type": "code",
   "execution_count": 12,
   "metadata": {},
   "outputs": [
    {
     "output_type": "stream",
     "name": "stdout",
     "text": [
      "I loveMargherita Pizza\nI lovePepperoni Pizza\nI loveExtra cheese Pizza\nI loveBBQ Chicken Pizza\nI loveGreek Pizza\nPizza for life!\n"
     ]
    }
   ],
   "source": [
    "for i in pizzas:\n",
    "    print(\"I love\" + i)\n",
    "print(\"Pizza for life!\")"
   ]
  },
  {
   "source": [
    "4.2"
   ],
   "cell_type": "markdown",
   "metadata": {}
  },
  {
   "cell_type": "code",
   "execution_count": 13,
   "metadata": {},
   "outputs": [
    {
     "output_type": "stream",
     "name": "stdout",
     "text": [
      "A Dog would make a great pet.\nA Cat would make a great pet.\nA Monkey would make a great pet.\n"
     ]
    }
   ],
   "source": [
    "pets = [\"Dog\", \"Cat\", \"Monkey\"]\n",
    "for i in pets:\n",
    "    print(\"A \" + i + \" would make a great pet.\")"
   ]
  },
  {
   "cell_type": "code",
   "execution_count": 14,
   "metadata": {},
   "outputs": [
    {
     "output_type": "stream",
     "name": "stdout",
     "text": [
      "A Dog would make a great pet.\nA Cat would make a great pet.\nA Monkey would make a great pet.\nAny one of them is a great choice!\n"
     ]
    }
   ],
   "source": [
    "for i in pets:\n",
    "    print(\"A \" + i + \" would make a great pet.\")\n",
    "print(\"Any one of them is a great choice!\")"
   ]
  },
  {
   "source": [
    "4.3"
   ],
   "cell_type": "markdown",
   "metadata": {}
  },
  {
   "cell_type": "code",
   "execution_count": 8,
   "metadata": {},
   "outputs": [
    {
     "output_type": "stream",
     "name": "stdout",
     "text": [
      "0\n1\n2\n3\n4\n5\n6\n7\n8\n9\n10\n11\n12\n13\n14\n15\n16\n17\n18\n19\n20\n"
     ]
    }
   ],
   "source": [
    "for i in range(0,21):\n",
    "    print(i)"
   ]
  },
  {
   "source": [
    "4.4"
   ],
   "cell_type": "markdown",
   "metadata": {}
  },
  {
   "cell_type": "code",
   "execution_count": null,
   "metadata": {
    "tags": []
   },
   "outputs": [],
   "source": [
    "l = list(range(0, 1000000))\n",
    "for i in l:\n",
    "    print(i)"
   ]
  },
  {
   "source": [
    "4.5"
   ],
   "cell_type": "markdown",
   "metadata": {}
  },
  {
   "cell_type": "code",
   "execution_count": null,
   "metadata": {},
   "outputs": [],
   "source": [
    "print(min(l))\n",
    "print(max(l))\n",
    "print(sum(l))"
   ]
  },
  {
   "source": [
    "4.6"
   ],
   "cell_type": "markdown",
   "metadata": {}
  },
  {
   "cell_type": "code",
   "execution_count": 4,
   "metadata": {},
   "outputs": [
    {
     "output_type": "stream",
     "name": "stdout",
     "text": [
      "1\n3\n5\n7\n9\n11\n13\n15\n17\n19\n"
     ]
    }
   ],
   "source": [
    "l = list(range(1,21,2))\n",
    "for i in l:\n",
    "    print(i)"
   ]
  },
  {
   "source": [
    "4.7"
   ],
   "cell_type": "markdown",
   "metadata": {}
  },
  {
   "cell_type": "code",
   "execution_count": 5,
   "metadata": {},
   "outputs": [
    {
     "output_type": "stream",
     "name": "stdout",
     "text": [
      "0\n3\n6\n9\n12\n15\n18\n21\n24\n27\n30\n"
     ]
    }
   ],
   "source": [
    "mult_3 = [i*3 for i in range(0, 11)]\n",
    "for i in mult_3:\n",
    "    print(i)"
   ]
  },
  {
   "source": [
    "4.8"
   ],
   "cell_type": "markdown",
   "metadata": {}
  },
  {
   "cell_type": "code",
   "execution_count": 7,
   "metadata": {},
   "outputs": [
    {
     "output_type": "stream",
     "name": "stdout",
     "text": [
      "1\n8\n27\n64\n125\n216\n343\n512\n729\n1000\n"
     ]
    }
   ],
   "source": [
    "x = []\n",
    "for i in range(1,11):\n",
    "    temp = i**3\n",
    "    x.append(temp)\n",
    "for i in x:\n",
    "    print(i)"
   ]
  },
  {
   "source": [
    "4.9"
   ],
   "cell_type": "markdown",
   "metadata": {}
  },
  {
   "cell_type": "code",
   "execution_count": 8,
   "metadata": {},
   "outputs": [
    {
     "output_type": "stream",
     "name": "stdout",
     "text": [
      "1\n8\n27\n64\n125\n216\n343\n512\n729\n1000\n"
     ]
    }
   ],
   "source": [
    "l = [i**3 for i in range(1,11)]\n",
    "for i in l:\n",
    "    print(i)"
   ]
  },
  {
   "source": [
    "4.10"
   ],
   "cell_type": "markdown",
   "metadata": {}
  },
  {
   "cell_type": "code",
   "execution_count": 32,
   "metadata": {},
   "outputs": [
    {
     "output_type": "stream",
     "name": "stdout",
     "text": [
      "The first 3 items in the list are:\nMargherita Pizza\nPepperoni Pizza\nExtra cheese Pizza\n"
     ]
    }
   ],
   "source": [
    "print(\"The first 3 items in the list are:\")\n",
    "for i in pizzas[:3]:\n",
    "    print(i)"
   ]
  },
  {
   "cell_type": "code",
   "execution_count": 33,
   "metadata": {},
   "outputs": [
    {
     "output_type": "stream",
     "name": "stdout",
     "text": [
      "The middle 3 items in the list are:\nPepperoni Pizza\nExtra cheese Pizza\nBBQ Chicken Pizza\n"
     ]
    }
   ],
   "source": [
    "print(\"The middle 3 items in the list are:\")\n",
    "for i in pizzas[1:4]:\n",
    "    print(i)"
   ]
  },
  {
   "cell_type": "code",
   "execution_count": 34,
   "metadata": {},
   "outputs": [
    {
     "output_type": "stream",
     "name": "stdout",
     "text": [
      "The last 3 items in the list are:\nExtra cheese Pizza\nBBQ Chicken Pizza\nGreek Pizza\n"
     ]
    }
   ],
   "source": [
    "print(\"The last 3 items in the list are:\")\n",
    "for i in pizzas[-3:]:\n",
    "    print(i)"
   ]
  },
  {
   "source": [
    "4.11"
   ],
   "cell_type": "markdown",
   "metadata": {}
  },
  {
   "cell_type": "code",
   "execution_count": 35,
   "metadata": {},
   "outputs": [
    {
     "output_type": "stream",
     "name": "stdout",
     "text": [
      "My friend's favorite pizzas are:\n['Margherita Pizza', 'Pepperoni Pizza', 'Extra cheese Pizza', 'BBQ Chicken Pizza', 'Greek Pizza', 'Mozzarella pizza']\n\nMy favorite pizzas are:\n['Margherita Pizza', 'Pepperoni Pizza', 'Extra cheese Pizza', 'BBQ Chicken Pizza', 'Greek Pizza', 'German sausage pizza']\n"
     ]
    }
   ],
   "source": [
    "friends_pizzas = pizzas[:]\n",
    "pizzas.append(\"German sausage pizza\")\n",
    "friends_pizzas.append(\"Mozzarella pizza\")\n",
    "print(\"My friend's favorite pizzas are:\")\n",
    "print(friends_pizzas)\n",
    "print(\"\\nMy favorite pizzas are:\")\n",
    "print(pizzas)"
   ]
  },
  {
   "source": [
    "4.12"
   ],
   "cell_type": "markdown",
   "metadata": {}
  },
  {
   "cell_type": "code",
   "execution_count": 36,
   "metadata": {},
   "outputs": [
    {
     "output_type": "stream",
     "name": "stdout",
     "text": [
      "Margherita Pizza\nPepperoni Pizza\nExtra cheese Pizza\nBBQ Chicken Pizza\nGreek Pizza\nMozzarella pizza\n\nMargherita Pizza\nPepperoni Pizza\nExtra cheese Pizza\nBBQ Chicken Pizza\nGreek Pizza\nGerman sausage pizza\n"
     ]
    }
   ],
   "source": [
    "for i in friends_pizzas:\n",
    "    print(i)\n",
    "print()\n",
    "for i in pizzas:\n",
    "    print(i)"
   ]
  },
  {
   "source": [
    "4.13"
   ],
   "cell_type": "markdown",
   "metadata": {}
  },
  {
   "cell_type": "code",
   "execution_count": 37,
   "metadata": {},
   "outputs": [
    {
     "output_type": "stream",
     "name": "stdout",
     "text": [
      "Bread toast\nSandwich\nLasagna\nPasta\nTacos\n"
     ]
    }
   ],
   "source": [
    "basic_foods = (\"Bread toast\", \"Sandwich\", \"Lasagna\", \"Pasta\", \"Tacos\")\n",
    "for i in basic_foods:\n",
    "    print(i)"
   ]
  },
  {
   "cell_type": "code",
   "execution_count": 38,
   "metadata": {},
   "outputs": [
    {
     "output_type": "error",
     "ename": "TypeError",
     "evalue": "'tuple' object does not support item assignment",
     "traceback": [
      "\u001b[0;31m---------------------------------------------------------------------------\u001b[0m",
      "\u001b[0;31mTypeError\u001b[0m                                 Traceback (most recent call last)",
      "\u001b[0;32m<ipython-input-38-2b36ac442687>\u001b[0m in \u001b[0;36m<module>\u001b[0;34m\u001b[0m\n\u001b[0;32m----> 1\u001b[0;31m \u001b[0mbasic_foods\u001b[0m\u001b[0;34m[\u001b[0m\u001b[0;36m0\u001b[0m\u001b[0;34m]\u001b[0m \u001b[0;34m=\u001b[0m \u001b[0;34m\"Spaghetti\"\u001b[0m\u001b[0;34m\u001b[0m\u001b[0;34m\u001b[0m\u001b[0m\n\u001b[0m",
      "\u001b[0;31mTypeError\u001b[0m: 'tuple' object does not support item assignment"
     ]
    }
   ],
   "source": [
    "basic_foods[0] = \"Spaghetti\""
   ]
  },
  {
   "cell_type": "code",
   "execution_count": 39,
   "metadata": {},
   "outputs": [
    {
     "output_type": "stream",
     "name": "stdout",
     "text": [
      "Initial menu:\nBread toast\nSandwich\nLasagna\nPasta\nTacos\n\nModified menu:\nPancakes\nBurger\nLasagna\nPasta\nTacos\n"
     ]
    }
   ],
   "source": [
    "print(\"Initial menu:\")\n",
    "for i in basic_foods:\n",
    "    print(i)\n",
    "\n",
    "basic_foods = (\"Pancakes\", \"Burger\", \"Lasagna\", \"Pasta\", \"Tacos\")\n",
    "print(\"\\nModified menu:\")\n",
    "for i in basic_foods:\n",
    "    print(i)"
   ]
  }
 ]
}