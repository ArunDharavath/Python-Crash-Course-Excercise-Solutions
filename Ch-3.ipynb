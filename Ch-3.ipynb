{
 "metadata": {
  "language_info": {
   "codemirror_mode": {
    "name": "ipython",
    "version": 3
   },
   "file_extension": ".py",
   "mimetype": "text/x-python",
   "name": "python",
   "nbconvert_exporter": "python",
   "pygments_lexer": "ipython3",
   "version": "3.8.5"
  },
  "orig_nbformat": 4,
  "kernelspec": {
   "name": "python3",
   "display_name": "Python 3.8.5 64-bit"
  },
  "interpreter": {
   "hash": "916dbcbb3f70747c44a77c7bcd40155683ae19c65e1c03b4aa3499c5328201f1"
  }
 },
 "nbformat": 4,
 "nbformat_minor": 2,
 "cells": [
  {
   "cell_type": "code",
   "execution_count": 13,
   "metadata": {},
   "outputs": [
    {
     "output_type": "stream",
     "name": "stdout",
     "text": [
      "Arun\nShruti\nAmruta\nRakesh\nSubro\n"
     ]
    }
   ],
   "source": [
    "names = [\"Arun\", \"Shruti\", \"Amruta\", \"Rakesh\", \"Subro\"]\n",
    "for i in names:\n",
    "    print(i)"
   ]
  },
  {
   "source": [
    "3.2"
   ],
   "cell_type": "markdown",
   "metadata": {}
  },
  {
   "cell_type": "code",
   "execution_count": 14,
   "metadata": {},
   "outputs": [
    {
     "output_type": "stream",
     "name": "stdout",
     "text": [
      "Hello, Arun\nHello, Shruti\nHello, Amruta\nHello, Rakesh\nHello, Subro\n"
     ]
    }
   ],
   "source": [
    "for i in names:\n",
    "    print(\"Hello, \"+ i)"
   ]
  },
  {
   "source": [
    "3.3\n"
   ],
   "cell_type": "markdown",
   "metadata": {}
  },
  {
   "cell_type": "code",
   "execution_count": 15,
   "metadata": {},
   "outputs": [
    {
     "output_type": "stream",
     "name": "stdout",
     "text": [
      "I would love to drive a Toyota someday!\nI would love to drive a BMW someday!\nI would love to drive a Maybach someday!\n"
     ]
    }
   ],
   "source": [
    "cars = [\"Toyota\", \"BMW\", \"Maybach\"]\n",
    "for i in cars:\n",
    "    print(\"I would love to drive a \" + i + \" someday!\")"
   ]
  },
  {
   "source": [
    "3.4"
   ],
   "cell_type": "markdown",
   "metadata": {}
  },
  {
   "cell_type": "code",
   "execution_count": 34,
   "metadata": {},
   "outputs": [
    {
     "output_type": "stream",
     "name": "stdout",
     "text": [
      "Dear Bret, I cordially invite you over for dinner on Saturday\nDear John, I cordially invite you over for dinner on Saturday\nDear Michael, I cordially invite you over for dinner on Saturday\nDear Freddy, I cordially invite you over for dinner on Saturday\n"
     ]
    }
   ],
   "source": [
    "names = [\"Bret\", \"John\", \"Michael\", \"Freddy\"]\n",
    "for i in names:\n",
    "    print(\"Dear \" + i + \", I cordially invite you over for dinner on Saturday\")"
   ]
  },
  {
   "source": [
    "3.5"
   ],
   "cell_type": "markdown",
   "metadata": {}
  },
  {
   "cell_type": "code",
   "execution_count": 35,
   "metadata": {},
   "outputs": [
    {
     "output_type": "stream",
     "name": "stdout",
     "text": [
      "Dear Bret, I cordially invite you over for dinner on Saturday\nDear John, I cordially invite you over for dinner on Saturday\nDear Grisham, I cordially invite you over for dinner on Saturday\nDear Freddy, I cordially invite you over for dinner on Saturday\n"
     ]
    }
   ],
   "source": [
    "del(names[2])\n",
    "names.insert(2, \"Grisham\")\n",
    "for i in names:\n",
    "    print(\"Dear \" + i + \", I cordially invite you over for dinner on Saturday\")"
   ]
  },
  {
   "source": [
    "3.6"
   ],
   "cell_type": "markdown",
   "metadata": {}
  },
  {
   "cell_type": "code",
   "execution_count": 36,
   "metadata": {},
   "outputs": [
    {
     "output_type": "stream",
     "name": "stdout",
     "text": [
      "Dear Rick, I cordially invite you over for dinner on Saturday\nDear Bret, I cordially invite you over for dinner on Saturday\nDear Noel, I cordially invite you over for dinner on Saturday\nDear John, I cordially invite you over for dinner on Saturday\nDear Grisham, I cordially invite you over for dinner on Saturday\nDear Freddy, I cordially invite you over for dinner on Saturday\nDear Shawn, I cordially invite you over for dinner on Saturday\n"
     ]
    }
   ],
   "source": [
    "names.insert(0,\"Rick\")\n",
    "names.insert(2, \"Noel\")\n",
    "names.append(\"Shawn\")\n",
    "for i in names:\n",
    "    print(\"Dear \" + i + \", I cordially invite you over for dinner on Saturday\")"
   ]
  },
  {
   "source": [
    "3.7"
   ],
   "cell_type": "markdown",
   "metadata": {}
  },
  {
   "cell_type": "code",
   "execution_count": 37,
   "metadata": {},
   "outputs": [
    {
     "output_type": "stream",
     "name": "stdout",
     "text": [
      "Only two people can attend the dinner\n"
     ]
    }
   ],
   "source": [
    "print(\"Only two people can attend the dinner\")"
   ]
  },
  {
   "cell_type": "code",
   "execution_count": 38,
   "metadata": {},
   "outputs": [
    {
     "output_type": "stream",
     "name": "stdout",
     "text": [
      "Sorry, Shawn that I am unable to invite you to the dinner anymore\nSorry, Freddy that I am unable to invite you to the dinner anymore\nSorry, Grisham that I am unable to invite you to the dinner anymore\nSorry, John that I am unable to invite you to the dinner anymore\nSorry, Noel that I am unable to invite you to the dinner anymore\n"
     ]
    }
   ],
   "source": [
    "for i in range(0, len(names)-2):\n",
    "    x = names.pop()\n",
    "    print(\"Sorry, \" + x + \" that I am unable to invite you to the dinner anymore\")"
   ]
  },
  {
   "cell_type": "code",
   "execution_count": 39,
   "metadata": {},
   "outputs": [
    {
     "output_type": "stream",
     "name": "stdout",
     "text": [
      "Dear Rick you are still invited to the dinner on Saturday.\nDear Bret you are still invited to the dinner on Saturday.\n"
     ]
    }
   ],
   "source": [
    "for i in names:\n",
    "    print(\"Dear \" + i + \" you are still invited to the dinner on Saturday.\")"
   ]
  },
  {
   "cell_type": "code",
   "execution_count": 40,
   "metadata": {},
   "outputs": [
    {
     "output_type": "stream",
     "name": "stdout",
     "text": [
      "[]\n"
     ]
    }
   ],
   "source": [
    "del names[1]\n",
    "del names[0]\n",
    "print(names)"
   ]
  },
  {
   "source": [
    "3.8"
   ],
   "cell_type": "markdown",
   "metadata": {}
  },
  {
   "cell_type": "code",
   "execution_count": 42,
   "metadata": {},
   "outputs": [
    {
     "output_type": "stream",
     "name": "stdout",
     "text": [
      "['Switzerland', 'Mexico', 'New York', 'Texas', 'Finland']\n"
     ]
    }
   ],
   "source": [
    "places = [\"Switzerland\", \"Mexico\", \"New York\", \"Texas\", \"Finland\"]\n",
    "print(places)"
   ]
  },
  {
   "cell_type": "code",
   "execution_count": 43,
   "metadata": {},
   "outputs": [
    {
     "output_type": "stream",
     "name": "stdout",
     "text": [
      "['Texas', 'Switzerland', 'New York', 'Mexico', 'Finland']\n"
     ]
    }
   ],
   "source": [
    "print(sorted(places, reverse=True))"
   ]
  },
  {
   "cell_type": "code",
   "execution_count": 44,
   "metadata": {},
   "outputs": [
    {
     "output_type": "stream",
     "name": "stdout",
     "text": [
      "['Switzerland', 'Mexico', 'New York', 'Texas', 'Finland']\n"
     ]
    }
   ],
   "source": [
    "print(places)"
   ]
  },
  {
   "cell_type": "code",
   "execution_count": 48,
   "metadata": {},
   "outputs": [
    {
     "output_type": "stream",
     "name": "stdout",
     "text": [
      "['Finland', 'Texas', 'New York', 'Mexico', 'Switzerland']\n"
     ]
    }
   ],
   "source": [
    "places.reverse()\n",
    "print(places)"
   ]
  },
  {
   "cell_type": "code",
   "execution_count": 49,
   "metadata": {},
   "outputs": [
    {
     "output_type": "stream",
     "name": "stdout",
     "text": [
      "['Switzerland', 'Mexico', 'New York', 'Texas', 'Finland']\n"
     ]
    }
   ],
   "source": [
    "places.reverse()\n",
    "print(places)"
   ]
  },
  {
   "cell_type": "code",
   "execution_count": 50,
   "metadata": {},
   "outputs": [
    {
     "output_type": "stream",
     "name": "stdout",
     "text": [
      "['Finland', 'Mexico', 'New York', 'Switzerland', 'Texas']\n"
     ]
    }
   ],
   "source": [
    "places.sort()\n",
    "print(places)"
   ]
  },
  {
   "source": [
    "3.9"
   ],
   "cell_type": "markdown",
   "metadata": {}
  },
  {
   "cell_type": "code",
   "execution_count": 52,
   "metadata": {},
   "outputs": [
    {
     "output_type": "stream",
     "name": "stdout",
     "text": [
      "0\n"
     ]
    }
   ],
   "source": [
    "print(len(names))"
   ]
  },
  {
   "source": [
    "3.10"
   ],
   "cell_type": "markdown",
   "metadata": {}
  },
  {
   "cell_type": "code",
   "execution_count": 54,
   "metadata": {},
   "outputs": [
    {
     "output_type": "stream",
     "name": "stdout",
     "text": [
      "9\nDutch\n['English', 'Hindi', 'Telugu', 'French', 'Spanish', 'Korean', 'Japanese', 'Mandarin', 'Cantonese']\n['English', 'Hindi', 'French', 'Spanish', 'Korean', 'Japanese', 'Mandarin', 'Cantonese']\n['Cantonese', 'English', 'French', 'Hindi', 'Japanese', 'Korean', 'Mandarin', 'Spanish']\n['Spanish', 'Mandarin', 'Korean', 'Japanese', 'Hindi', 'French', 'English', 'Cantonese']\n['Spanish', 'Mandarin', 'Korean', 'Japanese', 'Hindi', 'French', 'English', 'Cantonese']\n['Spanish', 'Mandarin', 'Korean', 'Japanese', 'Russian', 'Hindi', 'French', 'English', 'Cantonese']\n"
     ]
    }
   ],
   "source": [
    "languages = [\"English\", \"Hindi\", \"Telugu\", \"French\", \"Spanish\", \"Korean\", \"Japanese\", \"Mandarin\", \"Dutch\"]\n",
    "print(len(languages))\n",
    "print(languages.pop())\n",
    "languages.append(\"Cantonese\")\n",
    "print(languages)\n",
    "del languages[2]\n",
    "print(languages)\n",
    "languages.sort()\n",
    "print(languages)\n",
    "print(sorted(languages, reverse=True))\n",
    "languages.reverse()\n",
    "print(languages)\n",
    "languages.insert(4, \"Russian\")\n",
    "print(languages)"
   ]
  },
  {
   "source": [
    "3.11"
   ],
   "cell_type": "markdown",
   "metadata": {}
  },
  {
   "cell_type": "code",
   "execution_count": 57,
   "metadata": {},
   "outputs": [
    {
     "output_type": "error",
     "ename": "IndexError",
     "evalue": "list index out of range",
     "traceback": [
      "\u001b[0;31m---------------------------------------------------------------------------\u001b[0m",
      "\u001b[0;31mIndexError\u001b[0m                                Traceback (most recent call last)",
      "\u001b[0;32m<ipython-input-57-4af39feac51b>\u001b[0m in \u001b[0;36m<module>\u001b[0;34m\u001b[0m\n\u001b[0;32m----> 1\u001b[0;31m \u001b[0mprint\u001b[0m\u001b[0;34m(\u001b[0m\u001b[0mlanguages\u001b[0m\u001b[0;34m[\u001b[0m\u001b[0;36m9\u001b[0m\u001b[0;34m]\u001b[0m\u001b[0;34m)\u001b[0m\u001b[0;34m\u001b[0m\u001b[0;34m\u001b[0m\u001b[0m\n\u001b[0m\u001b[1;32m      2\u001b[0m \u001b[0mlanguages\u001b[0m\u001b[0;34m.\u001b[0m\u001b[0mappend\u001b[0m\u001b[0;34m(\u001b[0m\u001b[0;34m\"Marathi\"\u001b[0m\u001b[0;34m)\u001b[0m\u001b[0;34m\u001b[0m\u001b[0;34m\u001b[0m\u001b[0m\n\u001b[1;32m      3\u001b[0m \u001b[0mprint\u001b[0m\u001b[0;34m(\u001b[0m\u001b[0mlanguages\u001b[0m\u001b[0;34m[\u001b[0m\u001b[0;36m9\u001b[0m\u001b[0;34m]\u001b[0m\u001b[0;34m)\u001b[0m\u001b[0;34m\u001b[0m\u001b[0;34m\u001b[0m\u001b[0m\n",
      "\u001b[0;31mIndexError\u001b[0m: list index out of range"
     ]
    }
   ],
   "source": [
    "print(languages[9])"
   ]
  },
  {
   "cell_type": "code",
   "execution_count": 58,
   "metadata": {},
   "outputs": [
    {
     "output_type": "stream",
     "name": "stdout",
     "text": [
      "Marathi\n"
     ]
    }
   ],
   "source": [
    "languages.append(\"Marathi\")\n",
    "print(languages[9])"
   ]
  }
 ]
}